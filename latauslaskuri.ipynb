{
 "cells": [
  {
   "cell_type": "markdown",
   "id": "145f244d",
   "metadata": {},
   "source": [
    "# Latauslaskuri\n",
    "\n",
    "Tällä laskurilla voit laskea, kuinka paljon sähköauton (tai lataushybridin)\n",
    "lataus maksaa pörssisähköä käyttäen.\n",
    "Kulutusdata annetaan minuuttikohtaisesti CSV-muodossa, ja pörssisähkön\n",
    "hintatiedot ladataan automaattisesti latausjaksolle.\n",
    "Laskussa huomioidaan pörssisähkön hinnan lisäksi kiinteät kustannukset eli\n",
    "pörssisähkösopimuksen mukainen marginaali, sähkönsiirto sekä sähkövero."
   ]
  },
  {
   "cell_type": "code",
   "execution_count": 13,
   "id": "cce532d2",
   "metadata": {},
   "outputs": [],
   "source": [
    "from datetime import datetime\n",
    "import os\n",
    "\n",
    "import numpy as np\n",
    "import pandas as pd\n",
    "import requests"
   ]
  },
  {
   "cell_type": "markdown",
   "id": "c124f8c7",
   "metadata": {},
   "source": [
    "Määritetään sähkön kiinteät kustannukset senteissä per kilowattitunti\n",
    "(snt kWh⁻¹)."
   ]
  },
  {
   "cell_type": "code",
   "execution_count": 14,
   "id": "2b88af34",
   "metadata": {},
   "outputs": [],
   "source": [
    "MARGINAALI = 0.49\n",
    "SIIRTO = 3.0\n",
    "SAHKOVERO = 2.82752\n",
    "\n",
    "kiinteat = MARGINAALI + SIIRTO + SAHKOVERO"
   ]
  },
  {
   "cell_type": "markdown",
   "id": "216e04fa",
   "metadata": {},
   "source": [
    "### Kulutuksen lukeminen CSV-tiedostoista\n",
    "\n",
    "Alla olevassa solussa kulutustiedot luetaan datakansiossa olevista\n",
    "CSV-tiedostoista pandas DataFrameen.\n",
    "Tämän jälkeen minuuttikohtainen kulutusdata muutetaan varttikohtaiseksi\n",
    "summaamalla, ja datan yksiköt muunnetaan wattitunneista (Wh) kilowattitunteihin\n",
    "(kWh) jakamalla varttikohtainen kulutuslukeman tuhannella.\n",
    "Datasta poistetaan latausaseman valmiustilan kulutus asettamalla kaikki alle\n",
    "1 Wh:n kulutuslukeman nollaan.\n",
    "\n",
    "Shellyltä saatava CSV-tiedosto sisältää kulutusdatan lisäksi myös tiedot\n",
    "sähköntuotannosta.\n",
    "Nämä jätetään lukematta asettamalla `max_rows`-parametrille arvoksi 60."
   ]
  },
  {
   "cell_type": "code",
   "execution_count": 15,
   "id": "8b5c4686",
   "metadata": {},
   "outputs": [],
   "source": [
    "minuuttikulutus = pd.DataFrame()\n",
    "\n",
    "data_dir = './data'\n",
    "directory = os.fsencode(data_dir)\n",
    "\n",
    "for file in os.listdir(directory):\n",
    "    filename = os.fsdecode(file)\n",
    "    if filename.endswith('.csv'):\n",
    "        ajat, kulutukset = np.loadtxt(\n",
    "            os.path.join(data_dir, filename), dtype='str',\n",
    "            delimiter=',', skiprows=2, unpack=True, max_rows=60)\n",
    "        \n",
    "        ajat = np.array(\n",
    "            [datetime.strptime(i.strip(), '%d/%m/%Y %H:%M') for i in ajat])\n",
    "        kulutukset = np.array(\n",
    "            [float(i) for i in kulutukset])\n",
    "        minuuttikulutus = pd.concat(\n",
    "            [minuuttikulutus, pd.DataFrame(kulutukset, index=ajat)])\n",
    "\n",
    "minuuttikulutus.columns = ['kulutus (kWh)']\n",
    "\n",
    "minuuttikulutus.loc[minuuttikulutus.loc[:, 'kulutus (kWh)'] < 1] = 0\n",
    "\n",
    "varttikulutus = minuuttikulutus.resample(\n",
    "    pd.Timedelta(minutes=15)).sum().div(1e3)"
   ]
  },
  {
   "cell_type": "markdown",
   "id": "36d50dc8",
   "metadata": {},
   "source": [
    "### Latauksen hinnan laskeminen\n",
    "\n",
    "Seuraavaksi luodaan uusi pandas DataFrame, jossa indeksinä on varttikohtainen\n",
    "aika, ja sarakkeina pörssisähkön hinta (yksiköissä snt kWh⁻¹), sähkönkulutus\n",
    "(yksiköissä kWh), ja kulutuskohtainen hinta (yksiköissä snt)."
   ]
  },
  {
   "cell_type": "code",
   "execution_count": 16,
   "id": "54200914",
   "metadata": {},
   "outputs": [],
   "source": [
    "latauksen_hinta = pd.DataFrame(\n",
    "    index=varttikulutus.index,\n",
    "    columns=['pörssi (snt/kWh)', 'kulutus (kWh)', 'hinta (snt)'])"
   ]
  },
  {
   "cell_type": "markdown",
   "id": "836dd583",
   "metadata": {},
   "source": [
    "Tämän jälkeen ladataan pörssisähkön varttikohtaiset hinnat tarkastellulle\n",
    "aikavälille.\n",
    "Tässä tulee huomioida, että kulutusdatan aikavyöhyke on Suomen aikavyöhyke eli\n",
    "UTC+2 talvi- ja UTC+3 kesäajalle, kun taas pörssisähkön hintatiedot annetaan\n",
    "UTC-ajassa.\n",
    "Tämän takia `latauksen_hinta` DataFramen indeksistä otettavat ajat on hintoja\n",
    "ladattaessa muutettava UTC-aikaan, jotta oikea pörssisähkön hinta kohdistuu\n",
    "oikealle kulutuslukemalle.\n",
    "\n",
    "HUOM!\n",
    "Lisää kesä-/talviajan käsittely, tämä tapahtuu tällä hetkellä manuaalisesti."
   ]
  },
  {
   "cell_type": "code",
   "execution_count": 17,
   "id": "7cb01ecb",
   "metadata": {},
   "outputs": [],
   "source": [
    "for aika in latauksen_hinta.index:\n",
    "    aika_utc = aika - pd.Timedelta(hours=3)\n",
    "    aika_str = aika_utc.strftime('%Y-%m-%dT%H:%M:%S.%fZ')\n",
    "    hinta = requests.get(\n",
    "        'https://api.porssisahko.net/v2/price.json?date=' + aika_str).json()\n",
    "    latauksen_hinta.loc[aika, 'pörssi (snt/kWh)'] = hinta['price']"
   ]
  },
  {
   "cell_type": "markdown",
   "id": "7f981bd4",
   "metadata": {},
   "source": [
    "Lopuksi lasketaan auton latauksen varttikohtainen hinta lisäämällä pörssisähkön\n",
    "hintoihin kiinteät kulut ja kertomalla kulutuslukemat näillä summilla.\n",
    "Latauksen kokonaishinta saadaan sitten summaamalla varttikohtaiset hinnat\n",
    "yhteen.\n",
    "Varttikohtaiset hinnat ovat senteissä, joten lopputulos muutetaan vielä euroiksi\n",
    "jakamalla lopullinen summa sadalla."
   ]
  },
  {
   "cell_type": "code",
   "execution_count": 18,
   "id": "f84c0379",
   "metadata": {},
   "outputs": [
    {
     "name": "stdout",
     "output_type": "stream",
     "text": [
      "Auton lataus maksoi kokonaisuudessaan 0.70€.\n"
     ]
    }
   ],
   "source": [
    "latauksen_hinta.loc[varttikulutus.index, 'kulutus (kWh)'] = (\n",
    "    varttikulutus.loc[:, 'kulutus (kWh)'])\n",
    "latauksen_hinta.loc[:, 'hinta (snt)'] = (\n",
    "    (latauksen_hinta.loc[:, 'pörssi (snt/kWh)'] + kiinteat)\n",
    "    *latauksen_hinta.loc[:, 'kulutus (kWh)'])\n",
    "\n",
    "print(\n",
    "    f'Auton lataus maksoi kokonaisuudessaan',\n",
    "    f'{latauksen_hinta.loc[:, 'hinta (snt)'].div(1e2).sum():.2f}€.')"
   ]
  }
 ],
 "metadata": {
  "kernelspec": {
   "display_name": ".venv",
   "language": "python",
   "name": "python3"
  },
  "language_info": {
   "codemirror_mode": {
    "name": "ipython",
    "version": 3
   },
   "file_extension": ".py",
   "mimetype": "text/x-python",
   "name": "python",
   "nbconvert_exporter": "python",
   "pygments_lexer": "ipython3",
   "version": "3.12.9"
  }
 },
 "nbformat": 4,
 "nbformat_minor": 5
}
