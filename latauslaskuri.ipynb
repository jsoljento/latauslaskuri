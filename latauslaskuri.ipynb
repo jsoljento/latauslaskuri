{
 "cells": [
  {
   "cell_type": "code",
   "execution_count": 1,
   "id": "cce532d2",
   "metadata": {},
   "outputs": [],
   "source": [
    "from datetime import datetime\n",
    "import os\n",
    "\n",
    "import numpy as np\n",
    "import pandas as pd\n",
    "import requests"
   ]
  },
  {
   "cell_type": "code",
   "execution_count": 2,
   "id": "2b88af34",
   "metadata": {},
   "outputs": [],
   "source": [
    "MARGINAALI = 0.49\n",
    "SIIRTO = 3.0\n",
    "SAHKOVERO = 2.82752\n",
    "\n",
    "kiinteat = MARGINAALI + SIIRTO + SAHKOVERO"
   ]
  },
  {
   "cell_type": "code",
   "execution_count": 3,
   "id": "8b5c4686",
   "metadata": {},
   "outputs": [],
   "source": [
    "minuuttikulutus = pd.DataFrame()\n",
    "\n",
    "data_dir = './data'\n",
    "directory = os.fsencode(data_dir)\n",
    "\n",
    "for file in os.listdir(directory):\n",
    "    filename = os.fsdecode(file)\n",
    "    if filename.endswith('.csv'):\n",
    "        ajat, kulutukset = np.loadtxt(\n",
    "            os.path.join(data_dir, filename), dtype='str',\n",
    "            delimiter=',', skiprows=2, unpack=True, max_rows=60)\n",
    "        \n",
    "        ajat = np.array(\n",
    "            [datetime.strptime(i.strip(), '%d/%m/%Y %H:%M') for i in ajat])\n",
    "        kulutukset = np.array(\n",
    "            [float(i) for i in kulutukset])\n",
    "        minuuttikulutus = pd.concat(\n",
    "            [minuuttikulutus, pd.DataFrame(kulutukset, index=ajat)])\n",
    "\n",
    "minuuttikulutus.columns = ['kulutus (kWh)']\n",
    "\n",
    "minuuttikulutus.loc[minuuttikulutus.loc[:, 'kulutus (kWh)'] < 1] = 0\n",
    "\n",
    "varttikulutus = minuuttikulutus.resample(\n",
    "    pd.Timedelta(minutes=15)).sum().div(1e3)"
   ]
  },
  {
   "cell_type": "code",
   "execution_count": 4,
   "id": "54200914",
   "metadata": {},
   "outputs": [],
   "source": [
    "latauksen_hinta = pd.DataFrame(\n",
    "    index=varttikulutus.index,\n",
    "    columns=['pörssi (snt/kWh)', 'kulutus (kWh)', 'hinta (snt)'])"
   ]
  },
  {
   "cell_type": "code",
   "execution_count": 5,
   "id": "7cb01ecb",
   "metadata": {},
   "outputs": [],
   "source": [
    "for aika in latauksen_hinta.index:\n",
    "    aika_utc = aika - pd.Timedelta(hours=3)\n",
    "    aika_str = aika_utc.strftime('%Y-%m-%dT%H:%M:%S.%fZ')\n",
    "    hinta = requests.get(\n",
    "        'https://api.porssisahko.net/v2/price.json?date=' + aika_str).json()\n",
    "    latauksen_hinta.loc[aika, 'pörssi (snt/kWh)'] = hinta['price']"
   ]
  },
  {
   "cell_type": "code",
   "execution_count": 6,
   "id": "f84c0379",
   "metadata": {},
   "outputs": [
    {
     "name": "stdout",
     "output_type": "stream",
     "text": [
      "0.38€\n"
     ]
    }
   ],
   "source": [
    "latauksen_hinta.loc[varttikulutus.index, 'kulutus (kWh)'] = (\n",
    "    varttikulutus.loc[:, 'kulutus (kWh)'])\n",
    "latauksen_hinta.loc[:, 'hinta (snt)'] = (\n",
    "    (latauksen_hinta.loc[:, 'pörssi (snt/kWh)'] + kiinteat)\n",
    "    *latauksen_hinta.loc[:, 'kulutus (kWh)'])\n",
    "\n",
    "print(f'{latauksen_hinta.loc[:, 'hinta (snt)'].div(1e2).sum():.2f}€')"
   ]
  }
 ],
 "metadata": {
  "kernelspec": {
   "display_name": ".venv (3.12.9)",
   "language": "python",
   "name": "python3"
  },
  "language_info": {
   "codemirror_mode": {
    "name": "ipython",
    "version": 3
   },
   "file_extension": ".py",
   "mimetype": "text/x-python",
   "name": "python",
   "nbconvert_exporter": "python",
   "pygments_lexer": "ipython3",
   "version": "3.12.9"
  }
 },
 "nbformat": 4,
 "nbformat_minor": 5
}
